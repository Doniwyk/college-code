{
 "cells": [
  {
   "cell_type": "code",
   "execution_count": 1,
   "metadata": {},
   "outputs": [],
   "source": [
    "import pandas as pd\n",
    "import random\n",
    "\n",
    "# random 2oo data\n",
    "data = {\n",
    "    'ID': list(range(1, 201)),\n",
    "    'Land Area (m²)': [random.randint(80, 250) for _ in range(200)],\n",
    "    'Building Area (m²)': [random.randint(120, 300) for _ in range(200)],\n",
    "    'Number of Bedrooms': [random.randint(2, 6) for _ in range(200)],\n",
    "    'Selling Price (million)': [random.randint(400, 2000) for _ in range(200)]\n",
    "}\n",
    "\n",
    "df = pd.DataFrame(data)\n",
    "\n",
    "# saving data into CSV file\n",
    "df.to_csv('data_property.csv', index=False)\n"
   ]
  }
 ],
 "metadata": {
  "kernelspec": {
   "display_name": "base",
   "language": "python",
   "name": "python3"
  },
  "language_info": {
   "codemirror_mode": {
    "name": "ipython",
    "version": 3
   },
   "file_extension": ".py",
   "mimetype": "text/x-python",
   "name": "python",
   "nbconvert_exporter": "python",
   "pygments_lexer": "ipython3",
   "version": "3.11.5"
  }
 },
 "nbformat": 4,
 "nbformat_minor": 2
}
