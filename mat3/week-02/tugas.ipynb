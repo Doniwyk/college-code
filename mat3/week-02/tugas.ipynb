{
 "cells": [
  {
   "cell_type": "code",
   "execution_count": 1,
   "metadata": {},
   "outputs": [
    {
     "name": "stdout",
     "output_type": "stream",
     "text": [
      "2\n"
     ]
    }
   ],
   "source": [
    "# Tugas 1\n",
    "def hammingDistance(n1, n2) :\n",
    "    x = n1 ^ n2\n",
    "    setBits = 0\n",
    "\n",
    "    while (x > 0) :\n",
    "        setBits += x & 1\n",
    "        x >>= 1\n",
    "\n",
    "    return setBits\n",
    "\n",
    "if __name__=='__main__':\n",
    "    n1 = 4\n",
    "    n2 = 8\n",
    "    print(hammingDistance(4, 8))"
   ]
  },
  {
   "cell_type": "code",
   "execution_count": 3,
   "metadata": {},
   "outputs": [
    {
     "name": "stdout",
     "output_type": "stream",
     "text": [
      "0.5\n"
     ]
    }
   ],
   "source": [
    "# Tugas 2\n",
    "def hamming_distance(a, b):\n",
    "    return sum(abs(e1 - e2) for e1, e2 in zip(a, b)) / len(a)\n",
    "\n",
    "row1 = [0, 1, 0, 0]\n",
    "row2 = [1, 0, 0, 0]\n",
    "\n",
    "dist = hamming_distance(row1, row2)\n",
    "print(dist)"
   ]
  },
  {
   "cell_type": "code",
   "execution_count": 5,
   "metadata": {},
   "outputs": [
    {
     "name": "stdout",
     "output_type": "stream",
     "text": [
      "2\n"
     ]
    }
   ],
   "source": [
    "# Tugas 2.1\n",
    "def hammingDistance(x,y):\n",
    "\n",
    "    ans = 0\n",
    "    m = max(x, y)\n",
    "    while (m):\n",
    "        c1 = x & 1\n",
    "        c2 = y & 1\n",
    "        if (c1 != c2):\n",
    "            ans += 1\n",
    "        m = m >> 1\n",
    "        x = x >> 1\n",
    "        y = y >> 1\n",
    "    return ans\n",
    "\n",
    "n1 = 4\n",
    "n2 = 8\n",
    "hdist = hammingDistance(n1, n2)\n",
    "print(hdist)"
   ]
  },
  {
   "cell_type": "code",
   "execution_count": 8,
   "metadata": {},
   "outputs": [
    {
     "name": "stdout",
     "output_type": "stream",
     "text": [
      "13.0\n",
      "6.082762530298219\n"
     ]
    }
   ],
   "source": [
    "# Tugas 3\n",
    "from math import sqrt\n",
    "\n",
    "def minkowski_distance(a, b, p):\n",
    "    return sum(abs(e1-e2)**p for e1, e2 in zip(a,b))**(1/p)\n",
    "\n",
    "row1 = [10, 20, 15, 10, 5]\n",
    "row2 = [12, 24, 18, 8, 7]\n",
    "\n",
    "dist = minkowski_distance(row1, row2, 1)\n",
    "print(dist)\n",
    "dist = minkowski_distance(row1, row2, 2)\n",
    "print(dist)"
   ]
  },
  {
   "cell_type": "code",
   "execution_count": null,
   "metadata": {},
   "outputs": [],
   "source": []
  }
 ],
 "metadata": {
  "kernelspec": {
   "display_name": "Python 3",
   "language": "python",
   "name": "python3"
  },
  "language_info": {
   "codemirror_mode": {
    "name": "ipython",
    "version": 3
   },
   "file_extension": ".py",
   "mimetype": "text/x-python",
   "name": "python",
   "nbconvert_exporter": "python",
   "pygments_lexer": "ipython3",
   "version": "3.11.4"
  },
  "orig_nbformat": 4
 },
 "nbformat": 4,
 "nbformat_minor": 2
}
