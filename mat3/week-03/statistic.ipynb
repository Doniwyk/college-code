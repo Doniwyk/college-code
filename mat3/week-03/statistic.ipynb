{
 "cells": [
  {
   "cell_type": "code",
   "execution_count": 3,
   "metadata": {},
   "outputs": [
    {
     "name": "stdout",
     "output_type": "stream",
     "text": [
      "69.0\n",
      "70.0\n",
      "60\n"
     ]
    }
   ],
   "source": [
    "import numpy as np\n",
    "import statistics as sc\n",
    "\n",
    "nilai = [75, 70, 60, 54, 60, 80, 60, 80, 95, 70, 55]\n",
    "\n",
    "x = np.mean(nilai)\n",
    "y = np.median(nilai)\n",
    "z = sc.mode(nilai)\n",
    "print(x)\n",
    "print(y)\n",
    "print(z)"
   ]
  }
 ],
 "metadata": {
  "kernelspec": {
   "display_name": "base",
   "language": "python",
   "name": "python3"
  },
  "language_info": {
   "codemirror_mode": {
    "name": "ipython",
    "version": 3
   },
   "file_extension": ".py",
   "mimetype": "text/x-python",
   "name": "python",
   "nbconvert_exporter": "python",
   "pygments_lexer": "ipython3",
   "version": "3.11.4"
  },
  "orig_nbformat": 4
 },
 "nbformat": 4,
 "nbformat_minor": 2
}
