{
 "cells": [
  {
   "cell_type": "code",
   "execution_count": 2,
   "metadata": {},
   "outputs": [
    {
     "name": "stdout",
     "output_type": "stream",
     "text": [
      "{'a': ['b', 'c'], 'b': ['a', 'd'], 'c': ['a', 'd'], 'd': ['e'], 'e': ['d']}\n"
     ]
    }
   ],
   "source": [
    "# Create the dictionary with graph elements\n",
    "graph = { \n",
    "   \"a\" : [\"b\",\"c\"],\n",
    "   \"b\" : [\"a\", \"d\"],\n",
    "   \"c\" : [\"a\", \"d\"],\n",
    "   \"d\" : [\"e\"],\n",
    "   \"e\" : [\"d\"]\n",
    "}\n",
    "print(graph)"
   ]
  },
  {
   "cell_type": "code",
   "execution_count": 9,
   "metadata": {},
   "outputs": [
    {
     "name": "stdout",
     "output_type": "stream",
     "text": [
      "Graph vertices :  ['a', 'b', 'c', 'd', 'e']\n",
      "Graph edges    :  [{'a', 'b'}, {'a', 'c'}, {'d', 'b'}, {'d', 'c'}, {'d', 'e'}]\n"
     ]
    }
   ],
   "source": [
    "class graph:\n",
    "    def __init__(self,gdict) -> None:\n",
    "        if gdict is None:\n",
    "            gdict = []\n",
    "        self.gdict = gdict\n",
    "\n",
    "    def getVertices(self):\n",
    "        return list(self.gdict.keys())\n",
    "    \n",
    "    def edges(self):\n",
    "        return self.findedges()\n",
    "    def findedges(self):\n",
    "        edgename = []\n",
    "        for vrtx in self.gdict:\n",
    "            for nxtvrtx in self.gdict[vrtx]:\n",
    "                if {nxtvrtx, vrtx} not in edgename:\n",
    "                    edgename.append({vrtx, nxtvrtx})\n",
    "        return edgename\n",
    "    \n",
    "# Create the dictionary with graph elements\n",
    "graph_elements = { \n",
    "   \"a\" : [\"b\",\"c\"],\n",
    "   \"b\" : [\"a\", \"d\"],\n",
    "   \"c\" : [\"a\", \"d\"],\n",
    "   \"d\" : [\"e\"],\n",
    "   \"e\" : [\"d\"]\n",
    "}\n",
    "g = graph(graph_elements)\n",
    "print('Graph vertices : ', g.getVertices())\n",
    "print('Graph edges    : ', g.edges())"
   ]
  },
  {
   "cell_type": "code",
   "execution_count": 11,
   "metadata": {},
   "outputs": [
    {
     "name": "stdout",
     "output_type": "stream",
     "text": [
      "['a', 'b', 'c', 'd', 'e', 'f']\n"
     ]
    }
   ],
   "source": [
    "class graph:\n",
    "   def __init__(self,gdict=None):\n",
    "      if gdict is None:\n",
    "         gdict = {}\n",
    "      self.gdict = gdict\n",
    "   def getVertices(self):\n",
    "      return list(self.gdict.keys())\n",
    "# Add the vertex as a key\n",
    "   def addVertex(self, vrtx):\n",
    "      if vrtx not in self.gdict:\n",
    "         self.gdict[vrtx] = []\n",
    "# Create the dictionary with graph elements\n",
    "graph_elements = { \n",
    "   \"a\" : [\"b\",\"c\"],\n",
    "   \"b\" : [\"a\", \"d\"],\n",
    "   \"c\" : [\"a\", \"d\"],\n",
    "   \"d\" : [\"e\"],\n",
    "   \"e\" : [\"d\"]\n",
    "}\n",
    "g = graph(graph_elements)\n",
    "g.addVertex(\"f\")\n",
    "print(g.getVertices())"
   ]
  },
  {
   "cell_type": "code",
   "execution_count": 13,
   "metadata": {},
   "outputs": [
    {
     "name": "stdout",
     "output_type": "stream",
     "text": [
      "[{'a', 'b'}, {'a', 'c'}, {'d', 'b'}, {'d', 'c'}, {'d', 'e'}, {'e', 'a'}]\n"
     ]
    }
   ],
   "source": [
    "class graph:\n",
    "    def __init__(self,gdict=None):\n",
    "        if gdict is None:\n",
    "            gdict = {}\n",
    "        self.gdict = gdict\n",
    "    def edges(self):\n",
    "        return self.findedges()\n",
    "    def AddEdge(self, edge):\n",
    "        edge = set(edge)\n",
    "        (vrtx1, vrtx2) = tuple(edge)\n",
    "        if vrtx1 in self.gdict:\n",
    "            self.gdict[vrtx1].append(vrtx2)\n",
    "        else:\n",
    "            self.gdict[vrtx1] = [vrtx2]\n",
    "    def findedges(self):\n",
    "        edgename = []\n",
    "        for vrtx in self.gdict:\n",
    "            for nxtvrtx in self.gdict[vrtx]:\n",
    "                if {nxtvrtx, vrtx} not in edgename:\n",
    "                    edgename.append({vrtx, nxtvrtx})\n",
    "        return edgename\n",
    "graph_elements = { \n",
    "    \"a\" : [\"b\",\"c\"],\n",
    "    \"b\" : [\"a\", \"d\"],\n",
    "    \"c\" : [\"a\", \"d\"],\n",
    "    \"d\" : [\"e\"],\n",
    "    \"e\" : [\"d\"]\n",
    "}\n",
    "g = graph(graph_elements)\n",
    "g.AddEdge({'a','e'})\n",
    "g.AddEdge({'a','c'})\n",
    "print(g.edges())"
   ]
  },
  {
   "cell_type": "code",
   "execution_count": null,
   "metadata": {},
   "outputs": [],
   "source": []
  }
 ],
 "metadata": {
  "kernelspec": {
   "display_name": "base",
   "language": "python",
   "name": "python3"
  },
  "language_info": {
   "codemirror_mode": {
    "name": "ipython",
    "version": 3
   },
   "file_extension": ".py",
   "mimetype": "text/x-python",
   "name": "python",
   "nbconvert_exporter": "python",
   "pygments_lexer": "ipython3",
   "version": "3.11.4"
  },
  "orig_nbformat": 4
 },
 "nbformat": 4,
 "nbformat_minor": 2
}
